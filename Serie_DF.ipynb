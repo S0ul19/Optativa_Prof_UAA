{
  "nbformat": 4,
  "nbformat_minor": 0,
  "metadata": {
    "colab": {
      "provenance": [],
      "authorship_tag": "ABX9TyPnlT01r5Rx0+5Lflr3Tg7l",
      "include_colab_link": true
    },
    "kernelspec": {
      "name": "python3",
      "display_name": "Python 3"
    },
    "language_info": {
      "name": "python"
    }
  },
  "cells": [
    {
      "cell_type": "markdown",
      "metadata": {
        "id": "view-in-github",
        "colab_type": "text"
      },
      "source": [
        "<a href=\"https://colab.research.google.com/github/S0ul19/Optativa_Prof_UAA/blob/main/Serie_DF.ipynb\" target=\"_parent\"><img src=\"https://colab.research.google.com/assets/colab-badge.svg\" alt=\"Open In Colab\"/></a>"
      ]
    },
    {
      "cell_type": "code",
      "execution_count": 1,
      "metadata": {
        "id": "36RBGgteRlK5"
      },
      "outputs": [],
      "source": [
        "import pandas as pd\n",
        "import numpy as np\n",
        "\n",
        "# Crear una serie\n",
        "s = pd.Series([1, 3, 5, np.nan, 6, 8])\n",
        "print(\"Serie:\")\n",
        "print(s)\n",
        "\n",
        "df = pd.DataFrame({\n",
        "    'A':[1,2,3,4]\n",
        "    'B':pd.Timestamp('20130102'),\n",
        "    'C':pd.Series(1,index=list(range(4)),dtype='float32'),\n",
        "    'D':np.array([3]*4,dtype='int32'),\n",
        "    'E':pd.Categorical(['test','train','test','train']),\n",
        "    'F':'foo'\n",
        "})"
      ]
    }
  ]
}