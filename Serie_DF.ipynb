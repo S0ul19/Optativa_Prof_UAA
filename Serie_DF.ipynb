{
  "nbformat": 4,
  "nbformat_minor": 0,
  "metadata": {
    "colab": {
      "provenance": [],
      "authorship_tag": "ABX9TyMR8EOt2CqIzcoq4xVPrtd2",
      "include_colab_link": true
    },
    "kernelspec": {
      "name": "python3",
      "display_name": "Python 3"
    },
    "language_info": {
      "name": "python"
    }
  },
  "cells": [
    {
      "cell_type": "markdown",
      "metadata": {
        "id": "view-in-github",
        "colab_type": "text"
      },
      "source": [
        "<a href=\"https://colab.research.google.com/github/S0ul19/Optativa_Prof_UAA/blob/main/Serie_DF.ipynb\" target=\"_parent\"><img src=\"https://colab.research.google.com/assets/colab-badge.svg\" alt=\"Open In Colab\"/></a>"
      ]
    },
    {
      "cell_type": "markdown",
      "source": [
        "EJERCICIO 1"
      ],
      "metadata": {
        "id": "kdkmL2KfV2kI"
      }
    },
    {
      "cell_type": "code",
      "execution_count": 4,
      "metadata": {
        "colab": {
          "base_uri": "https://localhost:8080/"
        },
        "id": "36RBGgteRlK5",
        "outputId": "b791e4a4-7e3a-461b-eaf9-dffe2fc7d465"
      },
      "outputs": [
        {
          "output_type": "stream",
          "name": "stdout",
          "text": [
            "Serie:\n",
            "0    1.0\n",
            "1    3.0\n",
            "2    5.0\n",
            "3    NaN\n",
            "4    6.0\n",
            "5    8.0\n",
            "dtype: float64\n",
            "\n",
            "DataFrame:\n",
            "   A          B    C  D      E    F\n",
            "0  1 2013-01-02  1.0  3   test  foo\n",
            "1  2 2013-01-02  1.0  3  train  foo\n",
            "2  3 2013-01-02  1.0  3   test  foo\n",
            "3  4 2013-01-02  1.0  3  train  foo\n"
          ]
        }
      ],
      "source": [
        "import pandas as pd\n",
        "import numpy as np\n",
        "\n",
        "# Crear una serie\n",
        "s = pd.Series([1, 3, 5, np.nan, 6, 8])\n",
        "print(\"Serie:\")\n",
        "print(s)\n",
        "\n",
        "df = pd.DataFrame({\n",
        "    'A':[1,2,3,4],\n",
        "    'B':pd.Timestamp('20130102'),\n",
        "    'C':pd.Series(1,index=list(range(4)),dtype='float32'),\n",
        "    'D':np.array([3]*4,dtype='int32'),\n",
        "    'E':pd.Categorical(['test','train','test','train']),\n",
        "    'F':'foo'\n",
        "})\n",
        "\n",
        "print(\"\\nDataFrame:\")\n",
        "print(df)"
      ]
    },
    {
      "cell_type": "markdown",
      "source": [
        "EXPORTAR DATAFRAME"
      ],
      "metadata": {
        "id": "E_byJH5xWyMX"
      }
    },
    {
      "cell_type": "code",
      "source": [
        "import pandas as pd\n",
        "import numpy as np\n",
        "\n",
        "print(\"\\nTipos de datos:\")\n",
        "print(df.dtypes)\n",
        "print(\"\\nPrimeras 2 filas:\")\n",
        "print(df.head(2))\n",
        "print(\"\\nÚltimas 2 filas:\")\n",
        "print(df.tail(2))"
      ],
      "metadata": {
        "colab": {
          "base_uri": "https://localhost:8080/"
        },
        "id": "MxMtbRCHV1R1",
        "outputId": "8649bf76-530e-4e2e-ae52-c804a03ac4bf"
      },
      "execution_count": 5,
      "outputs": [
        {
          "output_type": "stream",
          "name": "stdout",
          "text": [
            "\n",
            "Tipos de datos:\n",
            "A            int64\n",
            "B    datetime64[s]\n",
            "C          float32\n",
            "D            int32\n",
            "E         category\n",
            "F           object\n",
            "dtype: object\n",
            "\n",
            "Primeras 2 filas:\n",
            "   A          B    C  D      E    F\n",
            "0  1 2013-01-02  1.0  3   test  foo\n",
            "1  2 2013-01-02  1.0  3  train  foo\n",
            "\n",
            "Últimas 2 filas:\n",
            "   A          B    C  D      E    F\n",
            "2  3 2013-01-02  1.0  3   test  foo\n",
            "3  4 2013-01-02  1.0  3  train  foo\n",
            "\n",
            "Estadísticas básicas:\n"
          ]
        }
      ]
    }
  ]
}