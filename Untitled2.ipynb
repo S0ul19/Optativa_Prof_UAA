{
  "nbformat": 4,
  "nbformat_minor": 0,
  "metadata": {
    "colab": {
      "provenance": [],
      "authorship_tag": "ABX9TyNixJ1JM9MvpkHi/I4DiLV1",
      "include_colab_link": true
    },
    "kernelspec": {
      "name": "python3",
      "display_name": "Python 3"
    },
    "language_info": {
      "name": "python"
    }
  },
  "cells": [
    {
      "cell_type": "markdown",
      "metadata": {
        "id": "view-in-github",
        "colab_type": "text"
      },
      "source": [
        "<a href=\"https://colab.research.google.com/github/S0ul19/Optativa_Prof_UAA/blob/main/Untitled2.ipynb\" target=\"_parent\"><img src=\"https://colab.research.google.com/assets/colab-badge.svg\" alt=\"Open In Colab\"/></a>"
      ]
    },
    {
      "cell_type": "markdown",
      "source": [],
      "metadata": {
        "id": "Cwvo_ZTwobaf"
      }
    },
    {
      "cell_type": "code",
      "execution_count": null,
      "metadata": {
        "id": "Ii-ivgHboV3z"
      },
      "outputs": [],
      "source": [
        "import pandas as pd\n",
        "import numpy as np\n",
        "\n",
        "df = pd.DataFrame({\n",
        "    'A':[1,2,3,4],\n",
        "    'B':pd.Timestamp('20130102'),\n",
        "    'C':pd.Series(1,index=list(range(4)),dtype='float32'),\n",
        "    'D':np.array([3]*4,dtype='int32'),\n",
        "    'E':pd.Categorical(['test','train','test','train']),\n",
        "    'F':'foo'\n",
        "})\n",
        "\n",
        "print(\"DataFrame Original\")\n",
        "print(df)"
      ]
    },
    {
      "cell_type": "markdown",
      "source": [
        "Eliminar Valores Nulos"
      ],
      "metadata": {
        "id": "Wloh7Zk7qQGR"
      }
    },
    {
      "cell_type": "code",
      "source": [
        "import pandas as pd\n",
        "import numpy as np\n",
        "\n",
        "df_clean = pd.DataFrame({\n",
        "    'A':[1,2,3,4],\n",
        "    'B':pd.Timestamp('20130102'),\n",
        "    'C':pd.Series(1,index=list(range(4)),dtype='float32'),\n",
        "    'D':np.array([3]*4,dtype='int32'),\n",
        "    'E':pd.Categorical(['test','train','test','train']),\n",
        "    'F':'foo'\n",
        "})\n",
        "\n",
        "df_clean = df_clean.dropna()\n",
        "\n",
        "print(\"DataFrame sin filas nulas\")\n",
        "print(df_clean)"
      ],
      "metadata": {
        "colab": {
          "base_uri": "https://localhost:8080/"
        },
        "id": "yMhWTVShqOvt",
        "outputId": "aa138797-20d8-487b-d6bd-20014feca07b"
      },
      "execution_count": 1,
      "outputs": [
        {
          "output_type": "stream",
          "name": "stdout",
          "text": [
            "DataFrame sin filas nulas\n",
            "   A          B    C  D      E    F\n",
            "0  1 2013-01-02  1.0  3   test  foo\n",
            "1  2 2013-01-02  1.0  3  train  foo\n",
            "2  3 2013-01-02  1.0  3   test  foo\n",
            "3  4 2013-01-02  1.0  3  train  foo\n"
          ]
        }
      ]
    },
    {
      "cell_type": "markdown",
      "source": [
        "Rellenar valores nulos"
      ],
      "metadata": {
        "id": "sFkMiQEIrLc_"
      }
    },
    {
      "cell_type": "code",
      "source": [
        "import pandas as pd\n",
        "import numpy as np\n",
        "\n",
        "df_filled = pd.DataFrame({\n",
        "    'A':[1,2,3,4]\n",
        "    'B':pd.Timestamp('20130102'),\n",
        "    'C':pd.Series(1,index=list(range(4)),dtype='float32'),\n",
        "    'D':np.array([3]*4,dtype='int32'),\n",
        "    'E':pd.Categorical(['test','train','test','train']),\n",
        "    'F':'foo'\n",
        "})\n",
        "\n",
        "df_filled = df_filled(value=('A': df['A'].mean(), 'B': df['B'].median()))\n",
        "\n",
        "print(\"DataFrame con valores nulos rellenados\")\n",
        "print(df_filled)"
      ],
      "metadata": {
        "colab": {
          "base_uri": "https://localhost:8080/",
          "height": 106
        },
        "id": "a_njD7YTrNeC",
        "outputId": "55630aa1-b0c1-40d2-bc3c-d5ba0a370b6f"
      },
      "execution_count": 4,
      "outputs": [
        {
          "output_type": "error",
          "ename": "SyntaxError",
          "evalue": "invalid syntax. Perhaps you forgot a comma? (<ipython-input-4-d8b62891b253>, line 5)",
          "traceback": [
            "\u001b[0;36m  File \u001b[0;32m\"<ipython-input-4-d8b62891b253>\"\u001b[0;36m, line \u001b[0;32m5\u001b[0m\n\u001b[0;31m    'A':[1,2,3,4]\u001b[0m\n\u001b[0m        ^\u001b[0m\n\u001b[0;31mSyntaxError\u001b[0m\u001b[0;31m:\u001b[0m invalid syntax. Perhaps you forgot a comma?\n"
          ]
        }
      ]
    }
  ]
}